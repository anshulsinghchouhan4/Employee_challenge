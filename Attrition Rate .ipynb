{
 "cells": [
  {
   "cell_type": "markdown",
   "metadata": {},
   "source": [
    "# Import the Libraries"
   ]
  },
  {
   "cell_type": "code",
   "execution_count": 6,
   "metadata": {},
   "outputs": [],
   "source": [
    "import numpy as np\n",
    "import pandas as pd"
   ]
  },
  {
   "cell_type": "markdown",
   "metadata": {},
   "source": [
    "# Read the training dataset"
   ]
  },
  {
   "cell_type": "code",
   "execution_count": 8,
   "metadata": {},
   "outputs": [],
   "source": [
    "df = pd.read_csv(r'C:\\Users\\Anshul Singh\\Downloads\\hackerearth\\Machine Leaning contest\\Employee\\Dataset\\Train.csv')"
   ]
  },
  {
   "cell_type": "code",
   "execution_count": 9,
   "metadata": {},
   "outputs": [],
   "source": [
    "df = df.reindex(columns=['Employee_ID','Gender','Relationship_Status','Hometown','Unit','Decision_skill_possess','Compensation_and_Benefits','Age','Education_Level','Time_of_service','Time_since_promotion','growth_rate','Travel_Rate','Post_Level','Pay_Scale','Work_Life_balance','VAR1','VAR2','VAR3','VAR4','VAR5','VAR6','VAR7','Attrition_rate'])"
   ]
  },
  {
   "cell_type": "markdown",
   "metadata": {},
   "source": [
    "# Here I catrgorize the data (for string values)"
   ]
  },
  {
   "cell_type": "code",
   "execution_count": 10,
   "metadata": {},
   "outputs": [],
   "source": [
    "for col in df.select_dtypes(include='object').columns: \n",
    "    df[col]=pd.Categorical(df[col],categories=np.unique(df[col])).codes"
   ]
  },
  {
   "cell_type": "markdown",
   "metadata": {},
   "source": [
    "# Defining dependent and independent varaibles"
   ]
  },
  {
   "cell_type": "code",
   "execution_count": 11,
   "metadata": {},
   "outputs": [],
   "source": [
    "X = df.iloc[:, 1:-1].values\n",
    "y = df.iloc[:, -1].values"
   ]
  },
  {
   "cell_type": "markdown",
   "metadata": {},
   "source": [
    "# Handle missing data values in train set"
   ]
  },
  {
   "cell_type": "code",
   "execution_count": 12,
   "metadata": {},
   "outputs": [
    {
     "name": "stdout",
     "output_type": "stream",
     "text": [
      "[[0. 0. 1. ... 4. 5. 3.]\n",
      " [1. 1. 3. ... 3. 5. 3.]\n",
      " [0. 0. 0. ... 3. 8. 3.]\n",
      " ...\n",
      " [0. 1. 3. ... 4. 8. 3.]\n",
      " [0. 0. 4. ... 3. 6. 3.]\n",
      " [0. 0. 1. ... 4. 5. 3.]]\n"
     ]
    }
   ],
   "source": [
    "from sklearn.impute import SimpleImputer\n",
    "imputer = SimpleImputer(missing_values=np.nan, strategy='mean')\n",
    "imputer.fit(X[:,1:])\n",
    "X[:,1:] = imputer.transform(X[:,1:])\n",
    "print(X)"
   ]
  },
  {
   "cell_type": "markdown",
   "metadata": {},
   "source": [
    "# Here I used Multiple Linear Regression to train the model"
   ]
  },
  {
   "cell_type": "code",
   "execution_count": 13,
   "metadata": {},
   "outputs": [
    {
     "name": "stdout",
     "output_type": "stream",
     "text": [
      "[[ 0.18009898  0.76255659 -0.91505508  4.        ]\n",
      " [-1.18359795 -0.17638732 -0.81755388  4.        ]\n",
      " [ 1.39227403 -0.17638732  1.32747267  3.        ]\n",
      " ...\n",
      " [ 0.71042557 -0.17638732 -0.33004784  1.        ]\n",
      " [ 0.55890369 -0.17638732  1.03496905  1.        ]\n",
      " [ 1.39227403 -0.17638732  0.83996664  2.        ]]\n"
     ]
    }
   ],
   "source": [
    "from sklearn.preprocessing import StandardScaler\n",
    "sc = StandardScaler()\n",
    "X[:,6:9] = sc.fit_transform(X[:,6:9])\n",
    "print(X[:,6:10])\n",
    "#y = sc.transform(y)"
   ]
  },
  {
   "cell_type": "code",
   "execution_count": 14,
   "metadata": {},
   "outputs": [
    {
     "name": "stderr",
     "output_type": "stream",
     "text": [
      "C:\\Users\\Anshul Singh\\Anaconda3\\lib\\importlib\\_bootstrap.py:219: RuntimeWarning: numpy.ufunc size changed, may indicate binary incompatibility. Expected 192 from C header, got 216 from PyObject\n",
      "  return f(*args, **kwds)\n"
     ]
    },
    {
     "data": {
      "text/plain": [
       "LinearRegression(copy_X=True, fit_intercept=True, n_jobs=None,\n",
       "         normalize=False)"
      ]
     },
     "execution_count": 14,
     "metadata": {},
     "output_type": "execute_result"
    }
   ],
   "source": [
    "from sklearn.linear_model import LinearRegression\n",
    "lin_reg = LinearRegression()\n",
    "lin_reg.fit(X, y)"
   ]
  },
  {
   "cell_type": "markdown",
   "metadata": {},
   "source": [
    "# Read the test dataset"
   ]
  },
  {
   "cell_type": "code",
   "execution_count": 17,
   "metadata": {},
   "outputs": [],
   "source": [
    "testset = pd.read_csv(r'C:\\Users\\Anshul Singh\\Downloads\\hackerearth\\Machine Leaning contest\\Employee\\Dataset\\Test.csv')\n",
    "testset = testset.reindex(columns=['Employee_ID','Gender','Relationship_Status','Hometown','Unit','Decision_skill_possess','Compensation_and_Benefits','Age','Education_Level','Time_of_service','Time_since_promotion','growth_rate','Travel_Rate','Post_Level','Pay_Scale','Work_Life_balance','VAR1','VAR2','VAR3','VAR4','VAR5','VAR6','VAR7'])"
   ]
  },
  {
   "cell_type": "code",
   "execution_count": 18,
   "metadata": {},
   "outputs": [],
   "source": [
    "for col in testset.select_dtypes(include='object').columns: \n",
    "    testset[col]=pd.Categorical(testset[col],categories=np.unique(testset[col])).codes"
   ]
  },
  {
   "cell_type": "markdown",
   "metadata": {},
   "source": [
    "# Taking all independent vairable"
   ]
  },
  {
   "cell_type": "code",
   "execution_count": 19,
   "metadata": {},
   "outputs": [],
   "source": [
    "\n",
    "test = testset.iloc[:,1:].values\n",
    "test[:,6:9] = sc.transform(test[:,6:9])"
   ]
  },
  {
   "cell_type": "markdown",
   "metadata": {},
   "source": [
    "# Handle missing data values in test set"
   ]
  },
  {
   "cell_type": "code",
   "execution_count": 20,
   "metadata": {},
   "outputs": [
    {
     "data": {
      "text/plain": [
       "array([[0., 1., 3., ..., 1., 8., 4.],\n",
       "       [1., 1., 2., ..., 2., 8., 2.],\n",
       "       [1., 0., 3., ..., 1., 9., 3.],\n",
       "       ...,\n",
       "       [0., 1., 2., ..., 4., 8., 4.],\n",
       "       [0., 0., 3., ..., 3., 9., 2.],\n",
       "       [0., 1., 1., ..., 2., 8., 5.]])"
      ]
     },
     "execution_count": 20,
     "metadata": {},
     "output_type": "execute_result"
    }
   ],
   "source": [
    "from sklearn.impute import SimpleImputer\n",
    "imputer = SimpleImputer(missing_values=np.nan, strategy='mean')\n",
    "imputer.fit(test)\n",
    "test = imputer.transform(test)\n",
    "test"
   ]
  },
  {
   "cell_type": "markdown",
   "metadata": {},
   "source": [
    "# Predict the result"
   ]
  },
  {
   "cell_type": "code",
   "execution_count": 21,
   "metadata": {},
   "outputs": [],
   "source": [
    "y_pred = lin_reg.predict(test)"
   ]
  },
  {
   "cell_type": "markdown",
   "metadata": {},
   "source": [
    "# Taking Emp Id into a variable"
   ]
  },
  {
   "cell_type": "code",
   "execution_count": 23,
   "metadata": {},
   "outputs": [],
   "source": [
    "testset = pd.read_csv(r'C:\\Users\\Anshul Singh\\Downloads\\hackerearth\\Machine Leaning contest\\Employee\\Dataset\\Test.csv')\n",
    "ids = testset.iloc[:,:1].values"
   ]
  },
  {
   "cell_type": "markdown",
   "metadata": {},
   "source": [
    "# Making a new dataframe with adding Emp id column"
   ]
  },
  {
   "cell_type": "code",
   "execution_count": 24,
   "metadata": {},
   "outputs": [],
   "source": [
    "new = pd.DataFrame(ids)"
   ]
  },
  {
   "cell_type": "markdown",
   "metadata": {},
   "source": [
    "# Adding a new coloumn of Attrition rate "
   ]
  },
  {
   "cell_type": "code",
   "execution_count": 25,
   "metadata": {},
   "outputs": [],
   "source": [
    "new['Attrition_rate'] = y_pred "
   ]
  },
  {
   "cell_type": "markdown",
   "metadata": {},
   "source": [
    "# Naming the both Column"
   ]
  },
  {
   "cell_type": "code",
   "execution_count": 26,
   "metadata": {},
   "outputs": [],
   "source": [
    "new.columns = ['Employee_ID','Attrition_rate']\n"
   ]
  },
  {
   "cell_type": "markdown",
   "metadata": {},
   "source": [
    "# Storing the dataframe into a CSV File"
   ]
  },
  {
   "cell_type": "code",
   "execution_count": 27,
   "metadata": {},
   "outputs": [],
   "source": [
    "new.to_csv('Final124.csv',index=False) "
   ]
  }
 ],
 "metadata": {
  "kernelspec": {
   "display_name": "Python 3",
   "language": "python",
   "name": "python3"
  },
  "language_info": {
   "codemirror_mode": {
    "name": "ipython",
    "version": 3
   },
   "file_extension": ".py",
   "mimetype": "text/x-python",
   "name": "python",
   "nbconvert_exporter": "python",
   "pygments_lexer": "ipython3",
   "version": "3.7.3"
  }
 },
 "nbformat": 4,
 "nbformat_minor": 2
}
